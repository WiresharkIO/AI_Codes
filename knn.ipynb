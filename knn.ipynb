{
 "cells": [
  {
   "cell_type": "markdown",
   "metadata": {},
   "source": [
    "## Preprocessing and Random-Forest\n"
   ]
  },
  {
   "cell_type": "code",
   "execution_count": 4,
   "metadata": {},
   "outputs": [],
   "source": [
    "import numpy as np\n",
    "\n",
    "import openml\n",
    "from collections import Counter\n"
   ]
  },
  {
   "cell_type": "code",
   "execution_count": 8,
   "metadata": {},
   "outputs": [
    {
     "name": "stderr",
     "output_type": "stream",
     "text": [
      "d:\\course_content\\ai_exercise\\machine_learning\\knn\\ml\\lib\\site-packages\\ipykernel_launcher.py:4: DeprecationWarning: `np.float` is a deprecated alias for the builtin `float`. To silence this warning, use `float` by itself. Doing this will not modify any behavior and is safe. If you specifically wanted the numpy scalar type, use `np.float64` here.\n",
      "Deprecated in NumPy 1.20; for more details and guidance: https://numpy.org/devdocs/release/1.20.0-notes.html#deprecations\n",
      "  after removing the cwd from sys.path.\n",
      "d:\\course_content\\ai_exercise\\machine_learning\\knn\\ml\\lib\\site-packages\\ipykernel_launcher.py:19: DeprecationWarning: `np.int` is a deprecated alias for the builtin `int`. To silence this warning, use `int` by itself. Doing this will not modify any behavior and is safe. When replacing `np.int`, you may wish to use e.g. `np.int64` or `np.int32` to specify the precision. If you wish to review your current use, check the release note link for additional information.\n",
      "Deprecated in NumPy 1.20; for more details and guidance: https://numpy.org/devdocs/release/1.20.0-notes.html#deprecations\n"
     ]
    },
    {
     "name": "stdout",
     "output_type": "stream",
     "text": [
      "The accuracy of the k-nearest neighbor algorithm with k = 10 is 0.7193675889328063\n"
     ]
    }
   ],
   "source": [
    "def euclidean_distance(\n",
    "        example_1: np.ndarray,\n",
    "        example_2: np.ndarray,\n",
    ") -> np.float:\n",
    "\n",
    "    sum_squared_distance = 0\n",
    "    nr_features = example_1.shape[0]\n",
    "    for feature_index in range(0, nr_features):\n",
    "        sum_squared_distance += np.power(example_1[feature_index] - example_2[feature_index], 2)\n",
    "\n",
    "    return np.sqrt(sum_squared_distance)\n",
    "\n",
    "\n",
    "def knn(\n",
    "    query_example: np.ndarray,\n",
    "    X_train: np.ndarray,\n",
    "    y_train: np.ndarray,\n",
    "    k: int,\n",
    ") -> np.int:\n",
    "    # TODO Write the main algorithm here\n",
    "    distances = []\n",
    "    for train_example, train_label in zip(X_train, y_train):\n",
    "        distance = euclidean_distance(query_example, train_example)\n",
    "        distances.append((distance, train_label))\n",
    "\n",
    "    distances.sort(key=lambda x: x[0])  # Sort distances in ascending order\n",
    "\n",
    "    k_nearest = distances[:k]  # Select the k nearest neighbors\n",
    "\n",
    "    labels = [neighbor[1] for neighbor in k_nearest]  # Extract labels of nearest neighbors\n",
    "\n",
    "    # Count the occurrences of each label\n",
    "    label_counts = Counter(labels)\n",
    "\n",
    "    most_common_label = label_counts.most_common(1)[0][0]  # Get the most common label\n",
    "\n",
    "    return most_common_label\n",
    "\n",
    "# diabetes dataset\n",
    "task = openml.tasks.get_task(267)\n",
    "train_indices, test_indices = task.get_train_test_split_indices()\n",
    "dataset = task.get_dataset()\n",
    "X, y, categorical_indicator, _ = dataset.get_data(\n",
    "    dataset_format='array',\n",
    "    target=dataset.default_target_attribute,\n",
    ")\n",
    "\n",
    "X_train = X[train_indices]\n",
    "y_train = y[train_indices]\n",
    "X_test = X[test_indices]\n",
    "y_test = y[test_indices]\n",
    "\n",
    "NR_NEIGHBORS = 10\n",
    "\n",
    "nr_correct_pred = 0\n",
    "for example, label in zip(X_test, y_test):\n",
    "    y_pred = knn(example, X_train, y_train, k=NR_NEIGHBORS)\n",
    "    if y_pred == label:\n",
    "        nr_correct_pred += 1\n",
    "\n",
    "accuracy = nr_correct_pred / X_test.shape[0]\n",
    "print(f'The accuracy of the k-nearest neighbor algorithm with k = {NR_NEIGHBORS} is {accuracy}')\n"
   ]
  },
  {
   "cell_type": "code",
   "execution_count": null,
   "metadata": {},
   "outputs": [],
   "source": []
  }
 ],
 "metadata": {
  "kernelspec": {
   "display_name": "Python 3 (ipykernel)",
   "language": "python",
   "name": "python3"
  },
  "language_info": {
   "codemirror_mode": {
    "name": "ipython",
    "version": 3
   },
   "file_extension": ".py",
   "mimetype": "text/x-python",
   "name": "python",
   "nbconvert_exporter": "python",
   "pygments_lexer": "ipython3",
   "version": "3.7.4"
  }
 },
 "nbformat": 4,
 "nbformat_minor": 4
}
