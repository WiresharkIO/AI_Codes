{
 "cells": [
  {
   "cell_type": "code",
   "execution_count": 3,
   "metadata": {},
   "outputs": [],
   "source": [
    "import numpy as np\n",
    "from sklearn.linear_model import LinearRegression\n"
   ]
  },
  {
   "cell_type": "code",
   "execution_count": 7,
   "metadata": {},
   "outputs": [
    {
     "name": "stdout",
     "output_type": "stream",
     "text": [
      "[7097.68629287]\n"
     ]
    }
   ],
   "source": [
    "\n",
    "age = np.array([18, 58, 23, 45, 63, 36])\n",
    "bmi = np.array([53.13, 49.06, 17.38, 21, 21.66, 28.59])\n",
    "charges = np.array([1163.43, 11381.33, 2775, 7222, 14349, 6548])\n",
    "\n",
    "age = age.reshape(-1, 1)\n",
    "bmi = bmi.reshape(-1, 1)\n",
    "\n",
    "features = np.concatenate((age, bmi), axis=1)\n",
    "\n",
    "model = LinearRegression()\n",
    "\n",
    "model.fit(features, charges)\n",
    "\n",
    "# Predict using the trained model\n",
    "\n",
    "new_age = np.array([40]).reshape(-1, 1)\n",
    "# new_age = np.array([40])\n",
    "new_bmi = np.array([32.5]).reshape(-1, 1)\n",
    "# new_bmi = np.array([32.5])\n",
    "\n",
    "new_features = np.concatenate((new_age, new_bmi), axis=1)\n",
    "\n",
    "predicted_charges = model.predict(new_features)\n",
    "\n",
    "# Print the predicted charges\n",
    "print(predicted_charges)\n"
   ]
  },
  {
   "cell_type": "code",
   "execution_count": null,
   "metadata": {},
   "outputs": [],
   "source": []
  }
 ],
 "metadata": {
  "kernelspec": {
   "display_name": "Python 3 (ipykernel)",
   "language": "python",
   "name": "python3"
  },
  "language_info": {
   "codemirror_mode": {
    "name": "ipython",
    "version": 3
   },
   "file_extension": ".py",
   "mimetype": "text/x-python",
   "name": "python",
   "nbconvert_exporter": "python",
   "pygments_lexer": "ipython3",
   "version": "3.7.4"
  }
 },
 "nbformat": 4,
 "nbformat_minor": 4
}
